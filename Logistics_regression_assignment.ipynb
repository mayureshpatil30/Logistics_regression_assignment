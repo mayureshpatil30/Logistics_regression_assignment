{
  "nbformat": 4,
  "nbformat_minor": 0,
  "metadata": {
    "colab": {
      "provenance": []
    },
    "kernelspec": {
      "name": "python3",
      "display_name": "Python 3"
    },
    "language_info": {
      "name": "python"
    }
  },
  "cells": [
    {
      "cell_type": "code",
      "execution_count": 1,
      "metadata": {
        "id": "wIMjFdYCgqcC"
      },
      "outputs": [],
      "source": [
        "# Import necessary libraries\n",
        "import numpy as np\n",
        "import pandas as pd\n",
        "import statsmodels.api as sm\n",
        "import matplotlib.pyplot as plt\n",
        "from patsy import dmatrices\n",
        "from sklearn.linear_model import LogisticRegression\n",
        "from sklearn.model_selection import train_test_split\n",
        "from sklearn import metrics\n",
        "from sklearn.model_selection import cross_val_score"
      ]
    },
    {
      "cell_type": "code",
      "source": [
        "# Load data\n",
        "dta = sm.datasets.fair.load_pandas().data\n",
        "\n",
        "# Add \"affair\" column: 1 represents having affairs, 0 represents not having affairs\n",
        "dta['affair'] = (dta.affairs > 0).astype(int)\n",
        "\n",
        "# Prepare the data for logistic regression\n",
        "# `dmatrices` allows us to create design matrices using the patsy library\n",
        "y, X = dmatrices('affair ~ rate_marriage + age + yrs_married + children + \\\n",
        "                 religious + educ + C(occupation) + C(occupation_husb)',\n",
        "                 dta, return_type=\"dataframe\")\n",
        "\n",
        "# Rename columns for ease of use\n",
        "X = X.rename(columns={\n",
        "    'C(occupation)[T.2.0]': 'occ_2',\n",
        "    'C(occupation)[T.3.0]': 'occ_3',\n",
        "    'C(occupation)[T.4.0]': 'occ_4',\n",
        "    'C(occupation)[T.5.0]': 'occ_5',\n",
        "    'C(occupation)[T.6.0]': 'occ_6',\n",
        "    'C(occupation_husb)[T.2.0]': 'occ_husb_2',\n",
        "    'C(occupation_husb)[T.3.0]': 'occ_husb_3',\n",
        "    'C(occupation_husb)[T.4.0]': 'occ_husb_4',\n",
        "    'C(occupation_husb)[T.5.0]': 'occ_husb_5',\n",
        "    'C(occupation_husb)[T.6.0]': 'occ_husb_6'\n",
        "})\n",
        "\n",
        "# Flatten the target array\n",
        "y = np.ravel(y)\n",
        "\n",
        "# Split the data into training and test sets\n",
        "X_train, X_test, y_train, y_test = train_test_split(X, y, test_size=0.3, random_state=42)\n",
        "\n",
        "# Initialize and fit the logistic regression model\n",
        "model = LogisticRegression(max_iter=1000)\n",
        "model.fit(X_train, y_train)\n",
        "\n",
        "# Predict on the test set\n",
        "y_pred = model.predict(X_test)\n",
        "\n",
        "# Evaluate the model\n",
        "accuracy = metrics.accuracy_score(y_test, y_pred)\n",
        "precision = metrics.precision_score(y_test, y_pred)\n",
        "recall = metrics.recall_score(y_test, y_pred)\n",
        "f1_score = metrics.f1_score(y_test, y_pred)\n",
        "roc_auc = metrics.roc_auc_score(y_test, model.predict_proba(X_test)[:, 1])\n",
        "\n",
        "# Print evaluation metrics\n",
        "print(f'Accuracy: {accuracy:.2f}')\n",
        "print(f'Precision: {precision:.2f}')\n",
        "print(f'Recall: {recall:.2f}')\n",
        "print(f'F1 Score: {f1_score:.2f}')\n",
        "print(f'ROC-AUC Score: {roc_auc:.2f}')\n",
        "\n",
        "# Cross-validation score for more robust evaluation\n",
        "cv_scores = cross_val_score(model, X, y, cv=10, scoring='accuracy')\n",
        "print(f'Cross-validated Accuracy: {np.mean(cv_scores):.2f}')\n"
      ],
      "metadata": {
        "colab": {
          "base_uri": "https://localhost:8080/"
        },
        "id": "SbwVZlTIg2Wf",
        "outputId": "1f7d91fc-60e2-4454-ccb5-9ad5de7bc6e8"
      },
      "execution_count": 2,
      "outputs": [
        {
          "output_type": "stream",
          "name": "stdout",
          "text": [
            "Accuracy: 0.72\n",
            "Precision: 0.64\n",
            "Recall: 0.38\n",
            "F1 Score: 0.48\n",
            "ROC-AUC Score: 0.76\n",
            "Cross-validated Accuracy: 0.72\n"
          ]
        }
      ]
    }
  ]
}